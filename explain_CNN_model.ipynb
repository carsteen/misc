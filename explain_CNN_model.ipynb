{
 "cells": [
  {
   "cell_type": "code",
   "execution_count": 56,
   "metadata": {
    "colab": {
     "base_uri": "https://localhost:8080/",
     "height": 104
    },
    "colab_type": "code",
    "executionInfo": {
     "elapsed": 86111,
     "status": "ok",
     "timestamp": 1560425587368,
     "user": {
      "displayName": "Raphaël CARMONA-HAGELSTEEN",
      "photoUrl": "",
      "userId": "02091363841963756829"
     },
     "user_tz": -120
    },
    "id": "YYw-Hz9sCLlH",
    "outputId": "2726d10a-40c0-4324-e42c-4dbcee2d8413"
   },
   "outputs": [
    {
     "name": "stdout",
     "output_type": "stream",
     "text": [
      "Drive already mounted at /gdrive; to attempt to forcibly remount, call drive.mount(\"/gdrive\", force_remount=True).\n",
      "mkdir: cannot create directory ‘/sets’: File exists\n",
      "Archive:  /sets/lesquare_NECTAR_20190518.zip\n",
      "replace /sets/lesquare_NECTAR_20190518/3854_-1.jpg? [y]es, [n]o, [A]ll, [N]one, [r]ename: N\n",
      "fatal: destination path 'tortue-rapide' already exists and is not an empty directory.\n"
     ]
    }
   ],
   "source": [
    "from google.colab import drive\n",
    "drive.mount('/gdrive')\n",
    "!mkdir /sets\n",
    "!cp /gdrive/My\\ Drive/franklin/sets/raw/lesquare_NECTAR_20190518.zip /sets/lesquare_NECTAR_20190518.zip\n",
    "!unzip '/sets/*.zip' -d /sets/\n",
    "\n",
    "from keras.models import load_model\n",
    "from sklearn.metrics import log_loss, accuracy_score\n",
    "import os\n",
    "import numpy as np \n",
    "\n",
    "!git clone --single-branch --branch raph https://github.com/augustin-barillec/tortue-rapide.git\n",
    "!cp tortue-rapide/franklin_gym/utils.py /content/\n",
    "from utils import newtub_to_array"
   ]
  },
  {
   "cell_type": "code",
   "execution_count": 0,
   "metadata": {
    "colab": {
     "base_uri": "https://localhost:8080/",
     "height": 521
    },
    "colab_type": "code",
    "executionInfo": {
     "elapsed": 847513,
     "status": "ok",
     "timestamp": 1560419304669,
     "user": {
      "displayName": "Raphaël CARMONA-HAGELSTEEN",
      "photoUrl": "",
      "userId": "02091363841963756829"
     },
     "user_tz": -120
    },
    "id": "hJ4lD2GoB9Om",
    "outputId": "727cc24b-f135-4079-8709-dc3c92a4716a"
   },
   "outputs": [
    {
     "name": "stdout",
     "output_type": "stream",
     "text": [
      "deprecated : error <class 'OSError'>\n",
      "3-first_try_20190515.hdf5 : loss = 1.29649, acc = 0.75\n",
      "3-second_try_20190515.hdf5 : loss = 0.6767, acc = 0.7292\n",
      "3-vgg162_20190514.hdf5 : error <class 'ValueError'>\n",
      "all_data_20190518.hdf5 : error <class 'ValueError'>\n",
      "selected_20190518.hdf5 : error <class 'ValueError'>\n",
      "3-first_try_polished.hdf5 : loss = 0.98021, acc = 0.8125\n",
      "5-medley_20190518.hdf5 : loss = 1.10399, acc = 0.5625\n",
      "5-medley_augmented_20190518.hdf5 : loss = 0.688, acc = 0.7708\n",
      "5-medly_wi_race_20190518.hdf5 : loss = 0.9804, acc = 0.7917\n",
      "3-all_data_overfited_noflip_20190518.hdf5 : loss = 0.69225, acc = 0.8958\n",
      "3-all_data_overfited_20190518.hdf5 : loss = 0.51145, acc = 0.8958\n",
      "3-selected_overfited_20190518.hdf5 : loss = 0.23242, acc = 0.8958\n",
      "3-selected_polished_20190518.hdf5 : loss = 0.98021, acc = 0.8125\n",
      "5-only_race_20190518.hdf5 : loss = 0.62657, acc = 0.875\n",
      "5-serious_limited_20190523.hdf5 : loss = 1.52988, acc = 0.2083\n",
      "5-serious_20190523.hdf5 : loss = 1.49188, acc = 0.2292\n",
      "5-all_but_flip_20190524.hdf5 : loss = 7.25946, acc = 0.25\n",
      "5-all_but_rattrapage_20190524.hdf5 : loss = 10.03643, acc = 0.1042\n",
      "5-all_20190524.hdf5 : loss = 12.36296, acc = 0.25\n",
      "5-black_and_white_20190527.hdf5 : loss = 4.13638, acc = 0.375\n",
      "3-BJ_challenge_20190527.hdf5 : loss = 4.50242, acc = 0.2708\n",
      "3-onlysmoothFlipContrastbinarycrossentropy_20190527.hdf5 : loss = 2.98147, acc = 0.2292\n",
      "3-onlysmoothFlipSharpnessbinarycrossentropy_20190527.hdf5 : loss = 5.4523, acc = 0.2708\n",
      "5-onlysmoothFlipContrastSharpnessbinarycrossentropy_20190527.hdf5 : loss = 3.68505, acc = 0.2083\n",
      "5-onlysmoothFlipSharpnessbinarycrossentropy_20190527.hdf5 : loss = 3.59503, acc = 0.2708\n",
      "5-secours_20190606.hdf5 : loss = 14.14159, acc = 0.2708\n",
      "5-mypilot_20190606.hdf5 : loss = 8.24001, acc = 0.2917\n",
      "5-Amine_pilot_20190611.hdf5 : loss = 5.51913, acc = 0.25\n"
     ]
    }
   ],
   "source": [
    "'''Compute la loss sur le dataset NECTAR pour chaque modèle présent dans le drive'''\n",
    "\n",
    "n_decision = '3'\n",
    "x, y = newtub_to_array('/sets/lesquare_NECTAR_20190518/', n_class=3)\n",
    "\n",
    "for model_name in os.listdir('/gdrive/My Drive/franklin/models'):\n",
    "  try:\n",
    "    model = load_model('/gdrive/My Drive/franklin/models/' + model_name)\n",
    "    if n_decision != model_name[0]:\n",
    "      x, y = newtub_to_array('/sets/lesquare_NECTAR_20190518/', n_class=int(model_name[0]))\n",
    "      n_decision = model_name[0]\n",
    "    y_hat = model.predict(x/255-.5)\n",
    "    y_hat_pred = np.zeros((y.shape))\n",
    "    y_hat_pred[np.arange(y.shape[0]), np.argmax(y_hat, axis=1)] = 1 \n",
    "    \n",
    "    print('{} : loss = {}, acc = {}'.format(model_name, round(log_loss(y, y_hat), 5), round(accuracy_score(y, y_hat_pred), 4)))\n",
    "  except (OSError, ValueError) as e:\n",
    "    print('{} : error {}'.format(model_name, type(e)))\n",
    "    pass"
   ]
  },
  {
   "cell_type": "code",
   "execution_count": 0,
   "metadata": {
    "colab": {
     "base_uri": "https://localhost:8080/",
     "height": 34
    },
    "colab_type": "code",
    "executionInfo": {
     "elapsed": 781,
     "status": "ok",
     "timestamp": 1560416466458,
     "user": {
      "displayName": "Raphaël CARMONA-HAGELSTEEN",
      "photoUrl": "",
      "userId": "02091363841963756829"
     },
     "user_tz": -120
    },
    "id": "PviARuKK_7qY",
    "outputId": "7a1ef0f2-122b-465f-c40b-13cc8f016ab9"
   },
   "outputs": [
    {
     "data": {
      "text/plain": [
       "0.10536051565782628"
      ]
     },
     "execution_count": 37,
     "metadata": {
      "tags": []
     },
     "output_type": "execute_result"
    }
   ],
   "source": [
    "from sklearn.metrics import log_loss\n",
    "log_loss(np.array([[0, 1], [1, 0]]),  # doctest: +ELLIPSIS\n",
    "          np.array([[.1, .9], [.9, .1]]))"
   ]
  },
  {
   "cell_type": "code",
   "execution_count": 0,
   "metadata": {
    "colab": {},
    "colab_type": "code",
    "id": "s-myyou6AgIm"
   },
   "outputs": [],
   "source": [
    "n_decision = '3'\n",
    "x, y = newtub_to_array('/sets/lesquare_NECTAR_20190518/', n_class=3)"
   ]
  },
  {
   "cell_type": "code",
   "execution_count": 101,
   "metadata": {
    "colab": {
     "base_uri": "https://localhost:8080/",
     "height": 34
    },
    "colab_type": "code",
    "executionInfo": {
     "elapsed": 51078,
     "status": "ok",
     "timestamp": 1560429036045,
     "user": {
      "displayName": "Raphaël CARMONA-HAGELSTEEN",
      "photoUrl": "",
      "userId": "02091363841963756829"
     },
     "user_tz": -120
    },
    "id": "aKzyRdUSCIa-",
    "outputId": "37158aa0-afda-4954-d483-adf55e170602"
   },
   "outputs": [
    {
     "data": {
      "text/plain": [
       "0.6767013017670251"
      ]
     },
     "execution_count": 101,
     "metadata": {
      "tags": []
     },
     "output_type": "execute_result"
    }
   ],
   "source": [
    "model = load_model('/gdrive/My Drive/franklin/models/3-second_try_20190515.hdf5')\n",
    "\n",
    "y_hat = model.predict(x/255-.5)\n",
    "yhat_pred = np.zeros((y.shape))\n",
    "yhat_pred[np.arange(y.shape[0]), np.argmax(y_hat, axis=1)] = 1"
   ]
  },
  {
   "cell_type": "code",
   "execution_count": 95,
   "metadata": {
    "colab": {
     "base_uri": "https://localhost:8080/",
     "height": 555
    },
    "colab_type": "code",
    "executionInfo": {
     "elapsed": 534,
     "status": "ok",
     "timestamp": 1560428858236,
     "user": {
      "displayName": "Raphaël CARMONA-HAGELSTEEN",
      "photoUrl": "",
      "userId": "02091363841963756829"
     },
     "user_tz": -120
    },
    "id": "esb9-My0DBPy",
    "outputId": "d167f2f0-6d34-4319-c418-910cb257c18b"
   },
   "outputs": [
    {
     "name": "stdout",
     "output_type": "stream",
     "text": [
      "_________________________________________________________________\n",
      "Layer (type)                 Output Shape              Param #   \n",
      "=================================================================\n",
      "img_in (InputLayer)          (None, 120, 160, 3)       0         \n",
      "_________________________________________________________________\n",
      "cropping2d_1 (Cropping2D)    (None, 80, 160, 3)        0         \n",
      "_________________________________________________________________\n",
      "conv2d_1 (Conv2D)            (None, 26, 52, 24)        1824      \n",
      "_________________________________________________________________\n",
      "conv2d_2 (Conv2D)            (None, 11, 24, 32)        19232     \n",
      "_________________________________________________________________\n",
      "conv2d_3 (Conv2D)            (None, 5, 11, 64)         18496     \n",
      "_________________________________________________________________\n",
      "conv2d_4 (Conv2D)            (None, 3, 9, 64)          36928     \n",
      "_________________________________________________________________\n",
      "flattened (Flatten)          (None, 1728)              0         \n",
      "_________________________________________________________________\n",
      "dense_1 (Dense)              (None, 100)               172900    \n",
      "_________________________________________________________________\n",
      "dropout_1 (Dropout)          (None, 100)               0         \n",
      "_________________________________________________________________\n",
      "dense_2 (Dense)              (None, 50)                5050      \n",
      "_________________________________________________________________\n",
      "dropout_2 (Dropout)          (None, 50)                0         \n",
      "_________________________________________________________________\n",
      "angle_out (Dense)            (None, 3)                 153       \n",
      "=================================================================\n",
      "Total params: 254,583\n",
      "Trainable params: 254,583\n",
      "Non-trainable params: 0\n",
      "_________________________________________________________________\n"
     ]
    }
   ],
   "source": [
    "model.summary()"
   ]
  },
  {
   "cell_type": "code",
   "execution_count": 102,
   "metadata": {
    "colab": {
     "base_uri": "https://localhost:8080/",
     "height": 34
    },
    "colab_type": "code",
    "executionInfo": {
     "elapsed": 38989,
     "status": "ok",
     "timestamp": 1560429036056,
     "user": {
      "displayName": "Raphaël CARMONA-HAGELSTEEN",
      "photoUrl": "",
      "userId": "02091363841963756829"
     },
     "user_tz": -120
    },
    "id": "V63cbuQyCxNb",
    "outputId": "a1af58e3-168b-41eb-cb5e-490bd75ab3f9"
   },
   "outputs": [
    {
     "data": {
      "text/plain": [
       "[4, 9, 13, 17, 18, 20, 22, 25, 27, 34, 36, 38, 46]"
      ]
     },
     "execution_count": 102,
     "metadata": {
      "tags": []
     },
     "output_type": "execute_result"
    }
   ],
   "source": [
    "wrong_samples = [r for y, yy, r in zip(yhat_pred, y, range(len(y))) if not np.array_equal(y, yy)]\n",
    "wrong_samples"
   ]
  },
  {
   "cell_type": "markdown",
   "metadata": {
    "colab_type": "text",
    "id": "XoyGHPe6niPB"
   },
   "source": [
    "Vizualize"
   ]
  },
  {
   "cell_type": "code",
   "execution_count": 0,
   "metadata": {
    "colab": {},
    "colab_type": "code",
    "id": "e885hF31FvZ-"
   },
   "outputs": [],
   "source": [
    "import keras.backend as K\n",
    "import cv2 \n",
    "import matplotlib.pyplot as plt\n",
    "\n",
    "def viz_layer_output(img, layer_idx, pred_idx, model, crop_top=0, crop_bottom=0):\n",
    "  'Vizualize specific areas of the input image that trigger the network decision'\n",
    "  \n",
    "  # compute prediction for specific image\n",
    "  pred = model.predict(img.reshape((1,)+ img.shape)/255-.5)\n",
    "  \n",
    "  \n",
    "  output = model.output[:, pred_idx]  \n",
    "  last_conv_layer = model.layers[layer_idx]\n",
    "  \n",
    "  grads = K.gradients(output, last_conv_layer.output)[0]\n",
    "  pooled_grads = K.mean(grads, axis=(0, 1, 2))\n",
    "  iterate = K.function([model.input], [pooled_grads, last_conv_layer.output[0]])\n",
    "  \n",
    "  pooled_grads_value, conv_layer_output_value = iterate([img.reshape((1,)+ img.shape)/255-.5])\n",
    "    \n",
    "  n_filters = conv_layer_output_value.shape[2]\n",
    "\n",
    "  for i in range(n_filters):\n",
    "      conv_layer_output_value[:, :, i] *= pooled_grads_value[i]\n",
    "\n",
    "  heatmap = np.mean(conv_layer_output_value, axis=-1)\n",
    "  heatmap = np.maximum(heatmap, 0)\n",
    "  heatmap /= np.max(heatmap)\n",
    "  \n",
    "  heatmap = cv2.resize(heatmap, (img.shape[1], img.shape[0]))\n",
    "  img = img/255\n",
    "  img = img.astype(np.float32)\n",
    "  gray_img = cv2.cvtColor(img, cv2.COLOR_RGB2GRAY)\n",
    "  added_image = cv2.addWeighted(gray_img, 0.5, heatmap, 0.1, 0)\n",
    "  \n",
    "  plt.imshow(added_image)\n",
    "  plt.title(str(np.round(pred, 3)))"
   ]
  },
  {
   "cell_type": "code",
   "execution_count": 103,
   "metadata": {
    "colab": {
     "base_uri": "https://localhost:8080/",
     "height": 281
    },
    "colab_type": "code",
    "executionInfo": {
     "elapsed": 37567,
     "status": "ok",
     "timestamp": 1560429044083,
     "user": {
      "displayName": "Raphaël CARMONA-HAGELSTEEN",
      "photoUrl": "",
      "userId": "02091363841963756829"
     },
     "user_tz": -120
    },
    "id": "e4cHxOEqnFst",
    "outputId": "338c2624-6729-483f-9f58-5c983433a1b0"
   },
   "outputs": [
    {
     "data": {
      "image/png": "[encoded data removed]",
      "text/plain": [
       "<Figure size 432x288 with 1 Axes>"
      ]
     },
     "metadata": {
      "tags": []
     },
     "output_type": "display_data"
    }
   ],
   "source": [
    "viz_layer_output(img=x[4], layer_idx=5, pred_idx=0, model=model)"
   ]
  }
 ],
 "metadata": {
  "colab": {
   "collapsed_sections": [],
   "name": "evaluate models on Nectar.ipynb",
   "provenance": [],
   "version": "0.3.2"
  },
  "kernelspec": {
   "display_name": "Python 3",
   "language": "python",
   "name": "python3"
  },
  "language_info": {
   "codemirror_mode": {
    "name": "ipython",
    "version": 3
   },
   "file_extension": ".py",
   "mimetype": "text/x-python",
   "name": "python",
   "nbconvert_exporter": "python",
   "pygments_lexer": "ipython3",
   "version": "3.6.12"
  }
 },
 "nbformat": 4,
 "nbformat_minor": 1
}
